{
 "cells": [
  {
   "cell_type": "code",
   "execution_count": 62,
   "id": "9e477f28-1106-485b-9c6f-7d1d5d3b4049",
   "metadata": {},
   "outputs": [
    {
     "name": "stdout",
     "output_type": "stream",
     "text": [
      "gender_coded={\n",
      "'male': 1,\n",
      "'female': 0,\n",
      "'other': 2,\n",
      "}\n",
      "race_coded={\n",
      "'white': 6,\n",
      "'mixed': 4,\n",
      "'blank': 2,\n",
      "'black': 1,\n",
      "'asian': 0,\n",
      "'hispanic': 3,\n",
      "'other': 5,\n",
      "}\n",
      "smoking_coded={\n",
      "'never': 0,\n",
      "'quit5': 3,\n",
      "'quit0': 1,\n",
      "'quit10': 2,\n",
      "'yesheavy': 5,\n",
      "'vape': 4,\n",
      "'yesmedium': 7,\n",
      "'yeslight': 6,\n",
      "}\n",
      "working_coded={\n",
      "'stopped': 2,\n",
      "'home': 0,\n",
      "'travel non critical': 4,\n",
      "'travel critical': 3,\n",
      "'never': 1,\n",
      "}\n"
     ]
    }
   ],
   "source": [
    "import pandas as pd\n",
    "column_names = ['Gender', 'Race', 'Smoking', 'Working']\n",
    "for i in column_names:\n",
    "    name_of_file = i + \"_Column_Encoded.csv\"\n",
    "#     print(name_of_file)\n",
    "    df = pd.read_csv(name_of_file, index_col=False)\n",
    "#     print(df.head())\n",
    "#     df = df.reset_index(drop=True)\n",
    "    df = df.to_dict('split')['data']\n",
    "    print(i.lower()+\"_coded={\")\n",
    "    for j in df:\n",
    "        print(\"\\'{}': {},\".format(j[0], j[1]))\n",
    "    print(\"}\")"
   ]
  },
  {
   "cell_type": "code",
   "execution_count": 46,
   "id": "09ab89b6-1864-43a4-a2f7-4d67813e7717",
   "metadata": {},
   "outputs": [
    {
     "data": {
      "text/html": [
       "<div>\n",
       "<style scoped>\n",
       "    .dataframe tbody tr th:only-of-type {\n",
       "        vertical-align: middle;\n",
       "    }\n",
       "\n",
       "    .dataframe tbody tr th {\n",
       "        vertical-align: top;\n",
       "    }\n",
       "\n",
       "    .dataframe thead th {\n",
       "        text-align: right;\n",
       "    }\n",
       "</style>\n",
       "<table border=\"1\" class=\"dataframe\">\n",
       "  <thead>\n",
       "    <tr style=\"text-align: right;\">\n",
       "      <th></th>\n",
       "      <th>Actual</th>\n",
       "      <th>Encoded</th>\n",
       "    </tr>\n",
       "  </thead>\n",
       "  <tbody>\n",
       "    <tr>\n",
       "      <th>0</th>\n",
       "      <td>ap</td>\n",
       "      <td>3</td>\n",
       "    </tr>\n",
       "    <tr>\n",
       "      <th>1</th>\n",
       "      <td>op</td>\n",
       "      <td>7</td>\n",
       "    </tr>\n",
       "    <tr>\n",
       "      <th>2</th>\n",
       "      <td>abp</td>\n",
       "      <td>1</td>\n",
       "    </tr>\n",
       "    <tr>\n",
       "      <th>3</th>\n",
       "      <td>bp</td>\n",
       "      <td>5</td>\n",
       "    </tr>\n",
       "    <tr>\n",
       "      <th>4</th>\n",
       "      <td>on</td>\n",
       "      <td>6</td>\n",
       "    </tr>\n",
       "  </tbody>\n",
       "</table>\n",
       "</div>"
      ],
      "text/plain": [
       "  Actual  Encoded\n",
       "0     ap        3\n",
       "1     op        7\n",
       "2    abp        1\n",
       "3     bp        5\n",
       "4     on        6"
      ]
     },
     "execution_count": 46,
     "metadata": {},
     "output_type": "execute_result"
    }
   ],
   "source": [
    "df.head()"
   ]
  },
  {
   "cell_type": "code",
   "execution_count": 47,
   "id": "bc9e7c47-3a9b-4e19-8025-f8fc887b37e0",
   "metadata": {},
   "outputs": [],
   "source": [
    "df = df.reset_index(drop=True)"
   ]
  },
  {
   "cell_type": "code",
   "execution_count": 48,
   "id": "698dafec-9beb-4024-843e-dd9506ab37d6",
   "metadata": {},
   "outputs": [],
   "source": [
    "country = df.to_dict('split')['data']"
   ]
  },
  {
   "cell_type": "code",
   "execution_count": 49,
   "id": "62cdb6a0-c6b5-4e0e-9d8f-58c394c47d79",
   "metadata": {},
   "outputs": [
    {
     "name": "stdout",
     "output_type": "stream",
     "text": [
      "'ap': 3,\n",
      "'op': 7,\n",
      "'abp': 1,\n",
      "'bp': 5,\n",
      "'on': 6,\n",
      "'an': 2,\n",
      "'abn': 0,\n",
      "'bn': 4,\n"
     ]
    }
   ],
   "source": [
    "for i in country:\n",
    "    print(\"\\'{}': {},\".format(i[0], i[1]))"
   ]
  }
 ],
 "metadata": {
  "kernelspec": {
   "display_name": "Python 3",
   "language": "python",
   "name": "python3"
  },
  "language_info": {
   "codemirror_mode": {
    "name": "ipython",
    "version": 3
   },
   "file_extension": ".py",
   "mimetype": "text/x-python",
   "name": "python",
   "nbconvert_exporter": "python",
   "pygments_lexer": "ipython3",
   "version": "3.8.8"
  }
 },
 "nbformat": 4,
 "nbformat_minor": 5
}
