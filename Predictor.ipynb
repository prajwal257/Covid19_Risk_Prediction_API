{
 "cells": [
  {
   "cell_type": "code",
   "execution_count": 104,
   "id": "5c6ff10f-e5e8-4d28-8aab-d99b5cb05954",
   "metadata": {},
   "outputs": [],
   "source": [
    "import numpy as np\n",
    "import pandas as pd\n",
    "import matplotlib.pyplot as plt\n",
    "import seaborn as sns"
   ]
  },
  {
   "cell_type": "code",
   "execution_count": 105,
   "id": "b95e3ed6-5a12-4d05-8505-f39b83230f5a",
   "metadata": {},
   "outputs": [
    {
     "data": {
      "text/html": [
       "<div>\n",
       "<style scoped>\n",
       "    .dataframe tbody tr th:only-of-type {\n",
       "        vertical-align: middle;\n",
       "    }\n",
       "\n",
       "    .dataframe tbody tr th {\n",
       "        vertical-align: top;\n",
       "    }\n",
       "\n",
       "    .dataframe thead th {\n",
       "        text-align: right;\n",
       "    }\n",
       "</style>\n",
       "<table border=\"1\" class=\"dataframe\">\n",
       "  <thead>\n",
       "    <tr style=\"text-align: right;\">\n",
       "      <th></th>\n",
       "      <th>survey_Date</th>\n",
       "      <th>ip_latitude</th>\n",
       "      <th>ip_longitude</th>\n",
       "      <th>ip_accuracy</th>\n",
       "      <th>sex</th>\n",
       "      <th>age</th>\n",
       "      <th>height</th>\n",
       "      <th>weight</th>\n",
       "      <th>bmi</th>\n",
       "      <th>blood_type</th>\n",
       "      <th>...</th>\n",
       "      <th>lung_disease</th>\n",
       "      <th>diabetes</th>\n",
       "      <th>hiv_positive</th>\n",
       "      <th>hypertension</th>\n",
       "      <th>other_chronic</th>\n",
       "      <th>nursing_home</th>\n",
       "      <th>health_worker</th>\n",
       "      <th>risk_infection</th>\n",
       "      <th>risk_mortality</th>\n",
       "      <th>country_name</th>\n",
       "    </tr>\n",
       "  </thead>\n",
       "  <tbody>\n",
       "    <tr>\n",
       "      <th>0</th>\n",
       "      <td>25-03-2020</td>\n",
       "      <td>33.9031</td>\n",
       "      <td>-118.1494</td>\n",
       "      <td>500</td>\n",
       "      <td>male</td>\n",
       "      <td>50_60</td>\n",
       "      <td>184</td>\n",
       "      <td>4.382027</td>\n",
       "      <td>3.161247</td>\n",
       "      <td>ap</td>\n",
       "      <td>...</td>\n",
       "      <td>0</td>\n",
       "      <td>0</td>\n",
       "      <td>0</td>\n",
       "      <td>0</td>\n",
       "      <td>0</td>\n",
       "      <td>0</td>\n",
       "      <td>0</td>\n",
       "      <td>100.0</td>\n",
       "      <td>0.194</td>\n",
       "      <td>United States</td>\n",
       "    </tr>\n",
       "    <tr>\n",
       "      <th>1</th>\n",
       "      <td>26-03-2020</td>\n",
       "      <td>52.0218</td>\n",
       "      <td>4.5357</td>\n",
       "      <td>5</td>\n",
       "      <td>female</td>\n",
       "      <td>80_90</td>\n",
       "      <td>164</td>\n",
       "      <td>4.430817</td>\n",
       "      <td>3.440418</td>\n",
       "      <td>ap</td>\n",
       "      <td>...</td>\n",
       "      <td>0</td>\n",
       "      <td>0</td>\n",
       "      <td>0</td>\n",
       "      <td>1</td>\n",
       "      <td>0</td>\n",
       "      <td>0</td>\n",
       "      <td>0</td>\n",
       "      <td>100.0</td>\n",
       "      <td>3.483</td>\n",
       "      <td>Netherlands</td>\n",
       "    </tr>\n",
       "    <tr>\n",
       "      <th>2</th>\n",
       "      <td>28-03-2020</td>\n",
       "      <td>-26.8740</td>\n",
       "      <td>-48.7028</td>\n",
       "      <td>10</td>\n",
       "      <td>female</td>\n",
       "      <td>20_30</td>\n",
       "      <td>170</td>\n",
       "      <td>4.158883</td>\n",
       "      <td>3.095578</td>\n",
       "      <td>ap</td>\n",
       "      <td>...</td>\n",
       "      <td>0</td>\n",
       "      <td>0</td>\n",
       "      <td>0</td>\n",
       "      <td>0</td>\n",
       "      <td>0</td>\n",
       "      <td>0</td>\n",
       "      <td>0</td>\n",
       "      <td>100.0</td>\n",
       "      <td>0.050</td>\n",
       "      <td>Brazil</td>\n",
       "    </tr>\n",
       "    <tr>\n",
       "      <th>3</th>\n",
       "      <td>27-03-2020</td>\n",
       "      <td>47.1921</td>\n",
       "      <td>8.1766</td>\n",
       "      <td>20</td>\n",
       "      <td>male</td>\n",
       "      <td>90_100</td>\n",
       "      <td>132</td>\n",
       "      <td>4.820282</td>\n",
       "      <td>4.264087</td>\n",
       "      <td>op</td>\n",
       "      <td>...</td>\n",
       "      <td>0</td>\n",
       "      <td>0</td>\n",
       "      <td>1</td>\n",
       "      <td>0</td>\n",
       "      <td>0</td>\n",
       "      <td>0</td>\n",
       "      <td>0</td>\n",
       "      <td>100.0</td>\n",
       "      <td>13.973</td>\n",
       "      <td>Switzerland</td>\n",
       "    </tr>\n",
       "    <tr>\n",
       "      <th>4</th>\n",
       "      <td>27-03-2020</td>\n",
       "      <td>40.5733</td>\n",
       "      <td>-111.9107</td>\n",
       "      <td>5</td>\n",
       "      <td>male</td>\n",
       "      <td>30_40</td>\n",
       "      <td>184</td>\n",
       "      <td>4.770685</td>\n",
       "      <td>3.549617</td>\n",
       "      <td>op</td>\n",
       "      <td>...</td>\n",
       "      <td>0</td>\n",
       "      <td>1</td>\n",
       "      <td>0</td>\n",
       "      <td>1</td>\n",
       "      <td>1</td>\n",
       "      <td>0</td>\n",
       "      <td>0</td>\n",
       "      <td>100.0</td>\n",
       "      <td>0.116</td>\n",
       "      <td>United States</td>\n",
       "    </tr>\n",
       "  </tbody>\n",
       "</table>\n",
       "<p>5 rows × 38 columns</p>\n",
       "</div>"
      ],
      "text/plain": [
       "  survey_Date  ip_latitude  ip_longitude  ip_accuracy     sex     age  height  \\\n",
       "0  25-03-2020      33.9031     -118.1494          500    male   50_60     184   \n",
       "1  26-03-2020      52.0218        4.5357            5  female   80_90     164   \n",
       "2  28-03-2020     -26.8740      -48.7028           10  female   20_30     170   \n",
       "3  27-03-2020      47.1921        8.1766           20    male  90_100     132   \n",
       "4  27-03-2020      40.5733     -111.9107            5    male   30_40     184   \n",
       "\n",
       "     weight       bmi blood_type  ... lung_disease diabetes hiv_positive  \\\n",
       "0  4.382027  3.161247         ap  ...            0        0            0   \n",
       "1  4.430817  3.440418         ap  ...            0        0            0   \n",
       "2  4.158883  3.095578         ap  ...            0        0            0   \n",
       "3  4.820282  4.264087         op  ...            0        0            1   \n",
       "4  4.770685  3.549617         op  ...            0        1            0   \n",
       "\n",
       "  hypertension other_chronic  nursing_home  health_worker  risk_infection  \\\n",
       "0            0             0             0              0           100.0   \n",
       "1            1             0             0              0           100.0   \n",
       "2            0             0             0              0           100.0   \n",
       "3            0             0             0              0           100.0   \n",
       "4            1             1             0              0           100.0   \n",
       "\n",
       "  risk_mortality   country_name  \n",
       "0          0.194  United States  \n",
       "1          3.483    Netherlands  \n",
       "2          0.050         Brazil  \n",
       "3         13.973    Switzerland  \n",
       "4          0.116  United States  \n",
       "\n",
       "[5 rows x 38 columns]"
      ]
     },
     "execution_count": 105,
     "metadata": {},
     "output_type": "execute_result"
    }
   ],
   "source": [
    "df = pd.read_csv(\"final_df.csv\")\n",
    "df.head()"
   ]
  },
  {
   "cell_type": "code",
   "execution_count": 106,
   "id": "0bba1601-1140-49d9-b764-7b3710685f4e",
   "metadata": {},
   "outputs": [
    {
     "name": "stdout",
     "output_type": "stream",
     "text": [
      "Index(['survey_Date', 'ip_latitude', 'ip_longitude', 'ip_accuracy', 'sex',\n",
      "       'age', 'height', 'weight', 'bmi', 'blood_type', 'insurance', 'income',\n",
      "       'race', 'immigrant', 'smoking', 'contacts_count', 'house_count',\n",
      "       'public_transport_count', 'working', 'worried', 'covid19_positive',\n",
      "       'covid19_symptoms', 'covid19_contact', 'asthma', 'kidney_disease',\n",
      "       'liver_disease', 'compromised_immune', 'heart_disease', 'lung_disease',\n",
      "       'diabetes', 'hiv_positive', 'hypertension', 'other_chronic',\n",
      "       'nursing_home', 'health_worker', 'risk_infection', 'risk_mortality',\n",
      "       'country_name'],\n",
      "      dtype='object')\n"
     ]
    }
   ],
   "source": [
    "print(df.columns)"
   ]
  },
  {
   "cell_type": "code",
   "execution_count": 107,
   "id": "613c14e2-21d2-4b71-97e8-33fa5ae57d87",
   "metadata": {},
   "outputs": [
    {
     "data": {
      "text/plain": [
       "array([ 0.,  1.,  3.,  2., 12.,  8.,  6., 11.,  4., 13., 14., 10.,  5.,\n",
       "       15.,  7.])"
      ]
     },
     "execution_count": 107,
     "metadata": {},
     "output_type": "execute_result"
    }
   ],
   "source": [
    "df['public_transport_count'].unique()"
   ]
  },
  {
   "cell_type": "code",
   "execution_count": 108,
   "id": "535d3305-dd0e-4788-bae7-e79c871b3dae",
   "metadata": {},
   "outputs": [
    {
     "data": {
      "text/plain": [
       "array([1, 0], dtype=int64)"
      ]
     },
     "execution_count": 108,
     "metadata": {},
     "output_type": "execute_result"
    }
   ],
   "source": [
    "df['covid19_positive'].unique()"
   ]
  },
  {
   "cell_type": "code",
   "execution_count": 109,
   "id": "5e7efc8c-7500-4098-b8c3-a94cdb6b9322",
   "metadata": {},
   "outputs": [
    {
     "data": {
      "text/plain": [
       "Index(['sex', 'age', 'bmi', 'blood_type', 'race', 'smoking',\n",
       "       'public_transport_count', 'working', 'worried', 'covid19_positive',\n",
       "       'covid19_symptoms', 'covid19_contact', 'asthma', 'kidney_disease',\n",
       "       'liver_disease', 'compromised_immune', 'heart_disease', 'lung_disease',\n",
       "       'diabetes', 'hiv_positive', 'hypertension', 'other_chronic',\n",
       "       'nursing_home', 'health_worker', 'risk_mortality', 'country_name'],\n",
       "      dtype='object')"
      ]
     },
     "execution_count": 109,
     "metadata": {},
     "output_type": "execute_result"
    }
   ],
   "source": [
    "df_trimmed = df.drop(columns=['survey_Date', 'ip_latitude', 'ip_longitude', 'ip_accuracy', 'height', 'weight', 'insurance', 'income', 'immigrant', 'contacts_count', 'house_count', 'risk_infection'])\n",
    "df_trimmed.columns"
   ]
  },
  {
   "cell_type": "code",
   "execution_count": 110,
   "id": "05a59e55-be9a-4df5-8d35-d81239bdb735",
   "metadata": {},
   "outputs": [
    {
     "name": "stdout",
     "output_type": "stream",
     "text": [
      "<class 'pandas.core.frame.DataFrame'>\n",
      "RangeIndex: 5109 entries, 0 to 5108\n",
      "Data columns (total 26 columns):\n",
      " #   Column                  Non-Null Count  Dtype  \n",
      "---  ------                  --------------  -----  \n",
      " 0   sex                     5109 non-null   object \n",
      " 1   age                     5109 non-null   object \n",
      " 2   bmi                     5109 non-null   float64\n",
      " 3   blood_type              5109 non-null   object \n",
      " 4   race                    5109 non-null   object \n",
      " 5   smoking                 5109 non-null   object \n",
      " 6   public_transport_count  5109 non-null   float64\n",
      " 7   working                 5109 non-null   object \n",
      " 8   worried                 5109 non-null   float64\n",
      " 9   covid19_positive        5109 non-null   int64  \n",
      " 10  covid19_symptoms        5109 non-null   int64  \n",
      " 11  covid19_contact         5109 non-null   int64  \n",
      " 12  asthma                  5109 non-null   int64  \n",
      " 13  kidney_disease          5109 non-null   int64  \n",
      " 14  liver_disease           5109 non-null   int64  \n",
      " 15  compromised_immune      5109 non-null   int64  \n",
      " 16  heart_disease           5109 non-null   int64  \n",
      " 17  lung_disease            5109 non-null   int64  \n",
      " 18  diabetes                5109 non-null   int64  \n",
      " 19  hiv_positive            5109 non-null   int64  \n",
      " 20  hypertension            5109 non-null   int64  \n",
      " 21  other_chronic           5109 non-null   int64  \n",
      " 22  nursing_home            5109 non-null   int64  \n",
      " 23  health_worker           5109 non-null   int64  \n",
      " 24  risk_mortality          5109 non-null   float64\n",
      " 25  country_name            5109 non-null   object \n",
      "dtypes: float64(4), int64(15), object(7)\n",
      "memory usage: 1.0+ MB\n"
     ]
    }
   ],
   "source": [
    "df_trimmed.info()"
   ]
  },
  {
   "cell_type": "code",
   "execution_count": 111,
   "id": "1a5f391e-cac3-45a0-beed-2cebfa657bde",
   "metadata": {},
   "outputs": [
    {
     "data": {
      "text/plain": [
       "89"
      ]
     },
     "execution_count": 111,
     "metadata": {},
     "output_type": "execute_result"
    }
   ],
   "source": [
    "len(df_trimmed['country_name'].unique())"
   ]
  },
  {
   "cell_type": "code",
   "execution_count": 112,
   "id": "fcfd0fcb-b8b3-4e54-a7dd-b85ccb98de21",
   "metadata": {},
   "outputs": [
    {
     "data": {
      "text/plain": [
       "sex                       0\n",
       "age                       0\n",
       "bmi                       0\n",
       "blood_type                0\n",
       "race                      0\n",
       "smoking                   0\n",
       "public_transport_count    0\n",
       "working                   0\n",
       "worried                   0\n",
       "covid19_positive          0\n",
       "covid19_symptoms          0\n",
       "covid19_contact           0\n",
       "asthma                    0\n",
       "kidney_disease            0\n",
       "liver_disease             0\n",
       "compromised_immune        0\n",
       "heart_disease             0\n",
       "lung_disease              0\n",
       "diabetes                  0\n",
       "hiv_positive              0\n",
       "hypertension              0\n",
       "other_chronic             0\n",
       "nursing_home              0\n",
       "health_worker             0\n",
       "risk_mortality            0\n",
       "country_name              0\n",
       "dtype: int64"
      ]
     },
     "execution_count": 112,
     "metadata": {},
     "output_type": "execute_result"
    }
   ],
   "source": [
    "df_trimmed.isnull().sum()"
   ]
  },
  {
   "cell_type": "code",
   "execution_count": 183,
   "id": "70a33c7b-d0bc-4bb0-bfe1-3e2e468c7635",
   "metadata": {},
   "outputs": [
    {
     "name": "stdout",
     "output_type": "stream",
     "text": [
      "sex\n",
      "age\n",
      "bmi\n",
      "blood_type\n",
      "race\n",
      "smoking\n",
      "public_transport_count\n",
      "working\n",
      "worried\n",
      "covid19_positive\n",
      "covid19_symptoms\n",
      "covid19_contact\n",
      "asthma\n",
      "kidney_disease\n",
      "liver_disease\n",
      "compromised_immune\n",
      "heart_disease\n",
      "lung_disease\n",
      "diabetes\n",
      "hiv_positive\n",
      "hypertension\n",
      "other_chronic\n",
      "nursing_home\n",
      "health_worker\n",
      "risk_mortality\n",
      "country_name\n"
     ]
    }
   ],
   "source": [
    "from sklearn import preprocessing\n",
    "label_encoder = preprocessing.LabelEncoder()\n",
    "df_encoded = df_trimmed\n",
    "label_encode_columns = ['sex', 'age', 'blood_type', 'race', 'smoking', 'working', 'country_name']\n",
    "for i in label_encode_columns:\n",
    "    df_encoded[i]= label_encoder.fit_transform(df_encoded[i])\n",
    "for i in df_encoded.columns:\n",
    "    print(i)"
   ]
  },
  {
   "cell_type": "code",
   "execution_count": 114,
   "id": "7fbb091c-543b-451c-ba4c-ea48ca3a6f8e",
   "metadata": {},
   "outputs": [
    {
     "data": {
      "text/html": [
       "<div>\n",
       "<style scoped>\n",
       "    .dataframe tbody tr th:only-of-type {\n",
       "        vertical-align: middle;\n",
       "    }\n",
       "\n",
       "    .dataframe tbody tr th {\n",
       "        vertical-align: top;\n",
       "    }\n",
       "\n",
       "    .dataframe thead th {\n",
       "        text-align: right;\n",
       "    }\n",
       "</style>\n",
       "<table border=\"1\" class=\"dataframe\">\n",
       "  <thead>\n",
       "    <tr style=\"text-align: right;\">\n",
       "      <th></th>\n",
       "      <th>sex</th>\n",
       "      <th>age</th>\n",
       "      <th>bmi</th>\n",
       "      <th>blood_type</th>\n",
       "      <th>race</th>\n",
       "      <th>smoking</th>\n",
       "      <th>public_transport_count</th>\n",
       "      <th>working</th>\n",
       "      <th>worried</th>\n",
       "      <th>covid19_positive</th>\n",
       "      <th>...</th>\n",
       "      <th>heart_disease</th>\n",
       "      <th>lung_disease</th>\n",
       "      <th>diabetes</th>\n",
       "      <th>hiv_positive</th>\n",
       "      <th>hypertension</th>\n",
       "      <th>other_chronic</th>\n",
       "      <th>nursing_home</th>\n",
       "      <th>health_worker</th>\n",
       "      <th>risk_mortality</th>\n",
       "      <th>country_name</th>\n",
       "    </tr>\n",
       "  </thead>\n",
       "  <tbody>\n",
       "    <tr>\n",
       "      <th>0</th>\n",
       "      <td>1</td>\n",
       "      <td>6</td>\n",
       "      <td>3.161247</td>\n",
       "      <td>3</td>\n",
       "      <td>6</td>\n",
       "      <td>0</td>\n",
       "      <td>0.0</td>\n",
       "      <td>2</td>\n",
       "      <td>4.0</td>\n",
       "      <td>1</td>\n",
       "      <td>...</td>\n",
       "      <td>0</td>\n",
       "      <td>0</td>\n",
       "      <td>0</td>\n",
       "      <td>0</td>\n",
       "      <td>0</td>\n",
       "      <td>0</td>\n",
       "      <td>0</td>\n",
       "      <td>0</td>\n",
       "      <td>0.194</td>\n",
       "      <td>88</td>\n",
       "    </tr>\n",
       "    <tr>\n",
       "      <th>1</th>\n",
       "      <td>0</td>\n",
       "      <td>9</td>\n",
       "      <td>3.440418</td>\n",
       "      <td>3</td>\n",
       "      <td>6</td>\n",
       "      <td>0</td>\n",
       "      <td>0.0</td>\n",
       "      <td>2</td>\n",
       "      <td>4.0</td>\n",
       "      <td>1</td>\n",
       "      <td>...</td>\n",
       "      <td>0</td>\n",
       "      <td>0</td>\n",
       "      <td>0</td>\n",
       "      <td>0</td>\n",
       "      <td>1</td>\n",
       "      <td>0</td>\n",
       "      <td>0</td>\n",
       "      <td>0</td>\n",
       "      <td>3.483</td>\n",
       "      <td>58</td>\n",
       "    </tr>\n",
       "    <tr>\n",
       "      <th>2</th>\n",
       "      <td>0</td>\n",
       "      <td>3</td>\n",
       "      <td>3.095578</td>\n",
       "      <td>3</td>\n",
       "      <td>6</td>\n",
       "      <td>0</td>\n",
       "      <td>0.0</td>\n",
       "      <td>2</td>\n",
       "      <td>4.0</td>\n",
       "      <td>1</td>\n",
       "      <td>...</td>\n",
       "      <td>0</td>\n",
       "      <td>0</td>\n",
       "      <td>0</td>\n",
       "      <td>0</td>\n",
       "      <td>0</td>\n",
       "      <td>0</td>\n",
       "      <td>0</td>\n",
       "      <td>0</td>\n",
       "      <td>0.050</td>\n",
       "      <td>11</td>\n",
       "    </tr>\n",
       "    <tr>\n",
       "      <th>3</th>\n",
       "      <td>1</td>\n",
       "      <td>10</td>\n",
       "      <td>4.264087</td>\n",
       "      <td>7</td>\n",
       "      <td>6</td>\n",
       "      <td>3</td>\n",
       "      <td>0.0</td>\n",
       "      <td>2</td>\n",
       "      <td>4.0</td>\n",
       "      <td>1</td>\n",
       "      <td>...</td>\n",
       "      <td>0</td>\n",
       "      <td>0</td>\n",
       "      <td>0</td>\n",
       "      <td>1</td>\n",
       "      <td>0</td>\n",
       "      <td>0</td>\n",
       "      <td>0</td>\n",
       "      <td>0</td>\n",
       "      <td>13.973</td>\n",
       "      <td>81</td>\n",
       "    </tr>\n",
       "    <tr>\n",
       "      <th>4</th>\n",
       "      <td>1</td>\n",
       "      <td>4</td>\n",
       "      <td>3.549617</td>\n",
       "      <td>7</td>\n",
       "      <td>6</td>\n",
       "      <td>0</td>\n",
       "      <td>0.0</td>\n",
       "      <td>2</td>\n",
       "      <td>4.0</td>\n",
       "      <td>1</td>\n",
       "      <td>...</td>\n",
       "      <td>0</td>\n",
       "      <td>0</td>\n",
       "      <td>1</td>\n",
       "      <td>0</td>\n",
       "      <td>1</td>\n",
       "      <td>1</td>\n",
       "      <td>0</td>\n",
       "      <td>0</td>\n",
       "      <td>0.116</td>\n",
       "      <td>88</td>\n",
       "    </tr>\n",
       "  </tbody>\n",
       "</table>\n",
       "<p>5 rows × 26 columns</p>\n",
       "</div>"
      ],
      "text/plain": [
       "   sex  age       bmi  blood_type  race  smoking  public_transport_count  \\\n",
       "0    1    6  3.161247           3     6        0                     0.0   \n",
       "1    0    9  3.440418           3     6        0                     0.0   \n",
       "2    0    3  3.095578           3     6        0                     0.0   \n",
       "3    1   10  4.264087           7     6        3                     0.0   \n",
       "4    1    4  3.549617           7     6        0                     0.0   \n",
       "\n",
       "   working  worried  covid19_positive  ...  heart_disease  lung_disease  \\\n",
       "0        2      4.0                 1  ...              0             0   \n",
       "1        2      4.0                 1  ...              0             0   \n",
       "2        2      4.0                 1  ...              0             0   \n",
       "3        2      4.0                 1  ...              0             0   \n",
       "4        2      4.0                 1  ...              0             0   \n",
       "\n",
       "   diabetes  hiv_positive  hypertension  other_chronic  nursing_home  \\\n",
       "0         0             0             0              0             0   \n",
       "1         0             0             1              0             0   \n",
       "2         0             0             0              0             0   \n",
       "3         0             1             0              0             0   \n",
       "4         1             0             1              1             0   \n",
       "\n",
       "   health_worker  risk_mortality  country_name  \n",
       "0              0           0.194            88  \n",
       "1              0           3.483            58  \n",
       "2              0           0.050            11  \n",
       "3              0          13.973            81  \n",
       "4              0           0.116            88  \n",
       "\n",
       "[5 rows x 26 columns]"
      ]
     },
     "execution_count": 114,
     "metadata": {},
     "output_type": "execute_result"
    }
   ],
   "source": [
    "df_encoded.head()"
   ]
  },
  {
   "cell_type": "code",
   "execution_count": 115,
   "id": "1bb89094-32fc-4b7a-b44b-8c023e06531c",
   "metadata": {},
   "outputs": [
    {
     "name": "stdout",
     "output_type": "stream",
     "text": [
      "<class 'pandas.core.frame.DataFrame'>\n",
      "RangeIndex: 5109 entries, 0 to 5108\n",
      "Data columns (total 26 columns):\n",
      " #   Column                  Non-Null Count  Dtype  \n",
      "---  ------                  --------------  -----  \n",
      " 0   sex                     5109 non-null   int32  \n",
      " 1   age                     5109 non-null   int32  \n",
      " 2   bmi                     5109 non-null   float64\n",
      " 3   blood_type              5109 non-null   int32  \n",
      " 4   race                    5109 non-null   int32  \n",
      " 5   smoking                 5109 non-null   int32  \n",
      " 6   public_transport_count  5109 non-null   float64\n",
      " 7   working                 5109 non-null   int32  \n",
      " 8   worried                 5109 non-null   float64\n",
      " 9   covid19_positive        5109 non-null   int64  \n",
      " 10  covid19_symptoms        5109 non-null   int64  \n",
      " 11  covid19_contact         5109 non-null   int64  \n",
      " 12  asthma                  5109 non-null   int64  \n",
      " 13  kidney_disease          5109 non-null   int64  \n",
      " 14  liver_disease           5109 non-null   int64  \n",
      " 15  compromised_immune      5109 non-null   int64  \n",
      " 16  heart_disease           5109 non-null   int64  \n",
      " 17  lung_disease            5109 non-null   int64  \n",
      " 18  diabetes                5109 non-null   int64  \n",
      " 19  hiv_positive            5109 non-null   int64  \n",
      " 20  hypertension            5109 non-null   int64  \n",
      " 21  other_chronic           5109 non-null   int64  \n",
      " 22  nursing_home            5109 non-null   int64  \n",
      " 23  health_worker           5109 non-null   int64  \n",
      " 24  risk_mortality          5109 non-null   float64\n",
      " 25  country_name            5109 non-null   int32  \n",
      "dtypes: float64(4), int32(7), int64(15)\n",
      "memory usage: 898.2 KB\n"
     ]
    }
   ],
   "source": [
    "df_encoded.info()"
   ]
  },
  {
   "cell_type": "code",
   "execution_count": 116,
   "id": "3d069cc6-74bb-45f8-af23-70e9b5eb43f8",
   "metadata": {},
   "outputs": [
    {
     "data": {
      "text/plain": [
       "Index(['sex', 'age', 'bmi', 'blood_type', 'race', 'smoking',\n",
       "       'public_transport_count', 'working', 'worried', 'covid19_positive',\n",
       "       'covid19_symptoms', 'covid19_contact', 'asthma', 'kidney_disease',\n",
       "       'liver_disease', 'compromised_immune', 'heart_disease', 'lung_disease',\n",
       "       'diabetes', 'hiv_positive', 'hypertension', 'other_chronic',\n",
       "       'nursing_home', 'health_worker', 'risk_mortality', 'country_name'],\n",
       "      dtype='object')"
      ]
     },
     "execution_count": 116,
     "metadata": {},
     "output_type": "execute_result"
    }
   ],
   "source": [
    "df_encoded.columns"
   ]
  },
  {
   "cell_type": "code",
   "execution_count": 117,
   "id": "efdd17be-7f35-4fa0-a942-5b940a6bfece",
   "metadata": {},
   "outputs": [
    {
     "data": {
      "text/plain": [
       "(5109, 26)"
      ]
     },
     "execution_count": 117,
     "metadata": {},
     "output_type": "execute_result"
    }
   ],
   "source": [
    "df_encoded.shape"
   ]
  },
  {
   "cell_type": "code",
   "execution_count": 181,
   "id": "0f3c0323-79c8-4eb1-8d88-ef8ba0c13e39",
   "metadata": {},
   "outputs": [
    {
     "name": "stdout",
     "output_type": "stream",
     "text": [
      "0.0\n",
      "1.0\n",
      "3.0\n",
      "2.0\n",
      "12.0\n",
      "8.0\n",
      "6.0\n",
      "11.0\n",
      "4.0\n",
      "13.0\n",
      "14.0\n",
      "10.0\n",
      "5.0\n",
      "15.0\n",
      "7.0\n"
     ]
    }
   ],
   "source": [
    "public_transport_count = df_encoded['public_transport_count'].unique()\n",
    "for i in public_transport_count:\n",
    "    print(i)"
   ]
  },
  {
   "cell_type": "code",
   "execution_count": 119,
   "id": "c83046d4-646b-48c8-beca-5aa4dc843231",
   "metadata": {},
   "outputs": [
    {
     "name": "stderr",
     "output_type": "stream",
     "text": [
      "C:\\Users\\Prajwal\\anaconda3\\lib\\site-packages\\seaborn\\_decorators.py:36: FutureWarning: Pass the following variable as a keyword arg: x. From version 0.12, the only valid positional argument will be `data`, and passing other arguments without an explicit keyword will result in an error or misinterpretation.\n",
      "  warnings.warn(\n"
     ]
    },
    {
     "data": {
      "image/png": "[encoded data removed]",
      "text/plain": [
       "<Figure size 432x288 with 1 Axes>"
      ]
     },
     "metadata": {
      "needs_background": "light"
     },
     "output_type": "display_data"
    },
    {
     "name": "stderr",
     "output_type": "stream",
     "text": [
      "C:\\Users\\Prajwal\\anaconda3\\lib\\site-packages\\seaborn\\_decorators.py:36: FutureWarning: Pass the following variable as a keyword arg: x. From version 0.12, the only valid positional argument will be `data`, and passing other arguments without an explicit keyword will result in an error or misinterpretation.\n",
      "  warnings.warn(\n"
     ]
    },
    {
     "data": {
      "image/png": "[encoded data removed]",
      "text/plain": [
       "<Figure size 432x288 with 1 Axes>"
      ]
     },
     "metadata": {
      "needs_background": "light"
     },
     "output_type": "display_data"
    },
    {
     "name": "stderr",
     "output_type": "stream",
     "text": [
      "C:\\Users\\Prajwal\\anaconda3\\lib\\site-packages\\seaborn\\_decorators.py:36: FutureWarning: Pass the following variable as a keyword arg: x. From version 0.12, the only valid positional argument will be `data`, and passing other arguments without an explicit keyword will result in an error or misinterpretation.\n",
      "  warnings.warn(\n"
     ]
    },
    {
     "data": {
      "image/png": "[encoded data removed]",
      "text/plain": [
       "<Figure size 432x288 with 1 Axes>"
      ]
     },
     "metadata": {
      "needs_background": "light"
     },
     "output_type": "display_data"
    },
    {
     "name": "stderr",
     "output_type": "stream",
     "text": [
      "C:\\Users\\Prajwal\\anaconda3\\lib\\site-packages\\seaborn\\_decorators.py:36: FutureWarning: Pass the following variable as a keyword arg: x. From version 0.12, the only valid positional argument will be `data`, and passing other arguments without an explicit keyword will result in an error or misinterpretation.\n",
      "  warnings.warn(\n"
     ]
    },
    {
     "data": {
      "image/png": "[encoded data removed]",
      "text/plain": [
       "<Figure size 432x288 with 1 Axes>"
      ]
     },
     "metadata": {
      "needs_background": "light"
     },
     "output_type": "display_data"
    },
    {
     "name": "stderr",
     "output_type": "stream",
     "text": [
      "C:\\Users\\Prajwal\\anaconda3\\lib\\site-packages\\seaborn\\_decorators.py:36: FutureWarning: Pass the following variable as a keyword arg: x. From version 0.12, the only valid positional argument will be `data`, and passing other arguments without an explicit keyword will result in an error or misinterpretation.\n",
      "  warnings.warn(\n"
     ]
    },
    {
     "data": {
      "image/png": "[encoded data removed]",
      "text/plain": [
       "<Figure size 432x288 with 1 Axes>"
      ]
     },
     "metadata": {
      "needs_background": "light"
     },
     "output_type": "display_data"
    },
    {
     "name": "stderr",
     "output_type": "stream",
     "text": [
      "C:\\Users\\Prajwal\\anaconda3\\lib\\site-packages\\seaborn\\_decorators.py:36: FutureWarning: Pass the following variable as a keyword arg: x. From version 0.12, the only valid positional argument will be `data`, and passing other arguments without an explicit keyword will result in an error or misinterpretation.\n",
      "  warnings.warn(\n"
     ]
    },
    {
     "data": {
      "image/png": "[encoded data removed]",
      "text/plain": [
       "<Figure size 432x288 with 1 Axes>"
      ]
     },
     "metadata": {
      "needs_background": "light"
     },
     "output_type": "display_data"
    }
   ],
   "source": [
    "for i in ['age', 'sex', 'blood_type', 'race', 'smoking', 'covid19_symptoms']:\n",
    "    sns.countplot(df_encoded[i])\n",
    "    plt.show()"
   ]
  },
  {
   "cell_type": "code",
   "execution_count": 120,
   "id": "1fffe8e0-371e-4427-a474-083400db7ade",
   "metadata": {},
   "outputs": [
    {
     "name": "stderr",
     "output_type": "stream",
     "text": [
      "C:\\Users\\Prajwal\\anaconda3\\lib\\site-packages\\seaborn\\distributions.py:2557: FutureWarning: `distplot` is a deprecated function and will be removed in a future version. Please adapt your code to use either `displot` (a figure-level function with similar flexibility) or `histplot` (an axes-level function for histograms).\n",
      "  warnings.warn(msg, FutureWarning)\n"
     ]
    },
    {
     "data": {
      "text/plain": [
       "<AxesSubplot:xlabel='bmi', ylabel='Density'>"
      ]
     },
     "execution_count": 120,
     "metadata": {},
     "output_type": "execute_result"
    },
    {
     "data": {
      "image/png": "[encoded data removed]",
      "text/plain": [
       "<Figure size 432x288 with 1 Axes>"
      ]
     },
     "metadata": {
      "needs_background": "light"
     },
     "output_type": "display_data"
    }
   ],
   "source": [
    "sns.distplot(df_encoded['bmi'])"
   ]
  },
  {
   "cell_type": "code",
   "execution_count": 178,
   "id": "49c30d9f-b0eb-48b4-b00a-be21f0a0dced",
   "metadata": {},
   "outputs": [
    {
     "name": "stdout",
     "output_type": "stream",
     "text": [
      "\n",
      " --------------------------- \n",
      " sex\n",
      "male , 1\n",
      "female , 0\n",
      "other , 2\n",
      "\n",
      " --------------------------- \n",
      " age\n",
      "50_60 , 6\n",
      "80_90 , 9\n",
      "20_30 , 3\n",
      "90_100 , 10\n",
      "30_40 , 4\n",
      "40_50 , 5\n",
      "60_70 , 7\n",
      "10_20 , 2\n",
      "70_80 , 8\n",
      "0_10 , 0\n",
      "100_110 , 1\n",
      "\n",
      " --------------------------- \n",
      " blood_type\n",
      "ap , 3\n",
      "op , 7\n",
      "abp , 1\n",
      "bp , 5\n",
      "on , 6\n",
      "an , 2\n",
      "abn , 0\n",
      "bn , 4\n",
      "\n",
      " --------------------------- \n",
      " race\n",
      "white , 6\n",
      "mixed , 4\n",
      "blank , 2\n",
      "black , 1\n",
      "asian , 0\n",
      "hispanic , 3\n",
      "other , 5\n",
      "\n",
      " --------------------------- \n",
      " smoking\n",
      "never , 0\n",
      "quit5 , 3\n",
      "quit0 , 1\n",
      "quit10 , 2\n",
      "yesheavy , 5\n",
      "vape , 4\n",
      "yesmedium , 7\n",
      "yeslight , 6\n",
      "\n",
      " --------------------------- \n",
      " working\n",
      "stopped , 2\n",
      "home , 0\n",
      "travel non critical , 4\n",
      "travel critical , 3\n",
      "never , 1\n",
      "\n",
      " --------------------------- \n",
      " country_name\n",
      "United States , 88\n",
      "Netherlands , 58\n",
      "Brazil , 11\n",
      "Switzerland , 81\n",
      "Spain , 79\n",
      "Australia , 5\n",
      "Russia , 72\n",
      "Japan , 43\n",
      "Malta , 51\n",
      "Britain , 12\n",
      "NewZealand , 59\n",
      "Pakistan , 62\n",
      "Chile , 16\n",
      "Ireland , 40\n",
      "Ukraine , 86\n",
      "Canada , 14\n",
      "India , 36\n",
      "Belgium , 8\n",
      "Bhutan , 9\n",
      "Hungary , 35\n",
      "Mexico , 53\n",
      "Greece , 31\n",
      "Italy , 42\n",
      "Germany , 30\n",
      "Singapore , 74\n",
      "Hong Kong , 34\n",
      "Egypt , 24\n",
      "Serbia , 73\n",
      "Peru , 65\n",
      "France , 28\n",
      "Colombia , 17\n",
      "Palestine , 63\n",
      "Dominican Republic , 22\n",
      "Sweden , 80\n",
      "North Macedonia , 60\n",
      "Portugal , 68\n",
      "Thailand , 82\n",
      "Romania , 71\n",
      "Philippines , 66\n",
      "Lithuania , 47\n",
      "Argentina , 2\n",
      "Denmark , 21\n",
      "Georgia , 29\n",
      "Ecuador , 23\n",
      "South Africa , 77\n",
      "Panama , 64\n",
      "Armenia , 3\n",
      "Turkey , 84\n",
      "Bangladesh , 7\n",
      "Algeria , 0\n",
      "Qatar , 70\n",
      "Iraq , 39\n",
      "Israel , 41\n",
      "Indonesia , 37\n",
      "United Arab Emirates , 87\n",
      "Guatemala , 32\n",
      "Czechia , 20\n",
      "Iran , 38\n",
      "Kazakhstan , 44\n",
      "Bulgaria , 13\n",
      "Norway , 61\n",
      "Austria , 6\n",
      "Moldova , 54\n",
      "Slovakia , 75\n",
      "Honduras , 33\n",
      "Ethiopia , 26\n",
      "El Salvador , 25\n",
      "Poland , 67\n",
      "Macao , 49\n",
      "Croatia , 19\n",
      "The Bahamas , 83\n",
      "Costa Rica , 18\n",
      "Slovenia , 76\n",
      "Andorra , 1\n",
      "Luxembourg , 48\n",
      "Bosnia , 10\n",
      "South Korea , 78\n",
      "Nepal , 57\n",
      "Mauritius , 52\n",
      "Puerto Rico , 69\n",
      "Finland , 27\n",
      "Mozambique , 55\n",
      "U.S. Virgin Islands , 85\n",
      "Malaysia , 50\n",
      "Latvia , 46\n",
      "Aruba , 4\n",
      "Myanmar , 56\n",
      "Cayman Islands , 15\n",
      "Kenya , 45\n"
     ]
    }
   ],
   "source": [
    "class_columns = ['sex', 'age', 'blood_type', 'race', 'smoking', 'working', 'country_name']\n",
    "for col_name in class_columns:\n",
    "    actual_column_name, encoded_column_name = [], []\n",
    "    actual_column_name = df[col_name].unique()\n",
    "    encoded_column_name = df_encoded[col_name].unique()\n",
    "    print(\"\\n\", \"---------------------------\", \"\\n\", col_name)\n",
    "    for i in range(len(actual_column_name)):\n",
    "        print(actual_column_name[i],\",\", encoded_column_name[i])"
   ]
  },
  {
   "cell_type": "code",
   "execution_count": 121,
   "id": "b1ef096e-1eb0-4263-afe8-85c21407e219",
   "metadata": {},
   "outputs": [],
   "source": [
    "## Doing a train Test Split.\n",
    "\n",
    "X = df_encoded.drop(columns=['risk_mortality'])\n",
    "y = df_encoded['risk_mortality']"
   ]
  },
  {
   "cell_type": "code",
   "execution_count": 122,
   "id": "25c4a43c-3851-4ed8-9e44-54c2fe4f0e0d",
   "metadata": {},
   "outputs": [],
   "source": [
    "from sklearn.model_selection import train_test_split\n",
    "X_train, X_test, y_train, y_test = train_test_split(X, y, test_size=0.25, random_state=42)"
   ]
  },
  {
   "cell_type": "code",
   "execution_count": 157,
   "id": "a2a7a46c-bec9-4558-aeda-6ab70c03835d",
   "metadata": {},
   "outputs": [
    {
     "name": "stdout",
     "output_type": "stream",
     "text": [
      "sex                        0.000000\n",
      "age                        4.000000\n",
      "bmi                        3.514526\n",
      "blood_type                 3.000000\n",
      "race                       6.000000\n",
      "smoking                    1.000000\n",
      "public_transport_count     0.000000\n",
      "working                    0.000000\n",
      "worried                    4.000000\n",
      "covid19_positive           1.000000\n",
      "covid19_symptoms           0.000000\n",
      "covid19_contact            0.000000\n",
      "asthma                     0.000000\n",
      "kidney_disease             0.000000\n",
      "liver_disease              0.000000\n",
      "compromised_immune         1.000000\n",
      "heart_disease              0.000000\n",
      "lung_disease               0.000000\n",
      "diabetes                   0.000000\n",
      "hiv_positive               0.000000\n",
      "hypertension               0.000000\n",
      "other_chronic              1.000000\n",
      "nursing_home               0.000000\n",
      "health_worker              0.000000\n",
      "country_name              88.000000\n",
      "Name: 1615, dtype: float64\n",
      "0.05\n"
     ]
    }
   ],
   "source": [
    "print(X_train.iloc[12])\n",
    "print(y_test.iloc[12])"
   ]
  },
  {
   "cell_type": "code",
   "execution_count": 140,
   "id": "2a6f3dda-2064-4176-9b68-7ad8d6a5b3ff",
   "metadata": {},
   "outputs": [],
   "source": [
    "from sklearn.ensemble import RandomForestRegressor\n",
    "regressor = RandomForestRegressor()"
   ]
  },
  {
   "cell_type": "code",
   "execution_count": 141,
   "id": "a8fe37b2-4b18-4130-a75d-7c49c852c1ec",
   "metadata": {},
   "outputs": [
    {
     "name": "stdout",
     "output_type": "stream",
     "text": [
      "Mean Absolute Error: 0.16 degrees.\n"
     ]
    }
   ],
   "source": [
    "regressor.fit(X_train, y_train)\n",
    "predictions = regressor.predict(X_test)\n",
    "errors = abs(predictions - y_test)\n",
    "print('Mean Absolute Error:', round(np.mean(errors), 2), 'degrees.')"
   ]
  },
  {
   "cell_type": "code",
   "execution_count": 142,
   "id": "9f00e8f9-a453-45d2-99f0-076aa26ebd42",
   "metadata": {},
   "outputs": [
    {
     "name": "stdout",
     "output_type": "stream",
     "text": [
      "Accuracy: 82.68 %.\n"
     ]
    }
   ],
   "source": [
    "# Calculate mean absolute percentage error (MAPE)\n",
    "mape = 100 * (errors / y_test)\n",
    "# Calculate and display accuracy\n",
    "accuracy = 100 - np.mean(mape)\n",
    "print('Accuracy:', round(accuracy, 2), '%.')"
   ]
  },
  {
   "cell_type": "code",
   "execution_count": 143,
   "id": "8653a8e1-d329-431f-a4ba-694785f85a44",
   "metadata": {},
   "outputs": [],
   "source": [
    "# Exporting the Model.\n",
    "import pickle\n",
    "pickle_out = open(\"regressor.pkl\", 'wb')\n",
    "pickle.dump(regressor, pickle_out)\n",
    "pickle_out.close()"
   ]
  },
  {
   "cell_type": "code",
   "execution_count": null,
   "id": "3a5fe2cf-28ff-40ef-9a10-ba45739eedfd",
   "metadata": {},
   "outputs": [],
   "source": [
    "regressor.pickle([[]])"
   ]
  }
 ],
 "metadata": {
  "kernelspec": {
   "display_name": "Python 3",
   "language": "python",
   "name": "python3"
  },
  "language_info": {
   "codemirror_mode": {
    "name": "ipython",
    "version": 3
   },
   "file_extension": ".py",
   "mimetype": "text/x-python",
   "name": "python",
   "nbconvert_exporter": "python",
   "pygments_lexer": "ipython3",
   "version": "3.8.8"
  }
 },
 "nbformat": 4,
 "nbformat_minor": 5
}
